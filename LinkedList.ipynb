{
  "nbformat": 4,
  "nbformat_minor": 0,
  "metadata": {
    "colab": {
      "name": "LinkedList.ipynb",
      "provenance": [],
      "collapsed_sections": [],
      "authorship_tag": "ABX9TyNEjmlI52wrZJ8tRKbM7VHi",
      "include_colab_link": true
    },
    "kernelspec": {
      "name": "python3",
      "display_name": "Python 3"
    },
    "language_info": {
      "name": "python"
    }
  },
  "cells": [
    {
      "cell_type": "markdown",
      "metadata": {
        "id": "view-in-github",
        "colab_type": "text"
      },
      "source": [
        "<a href=\"https://colab.research.google.com/github/yashirmehmood/LinkedListLeetcode/blob/main/LinkedList.ipynb\" target=\"_parent\"><img src=\"https://colab.research.google.com/assets/colab-badge.svg\" alt=\"Open In Colab\"/></a>"
      ]
    },
    {
      "cell_type": "code",
      "metadata": {
        "colab": {
          "base_uri": "https://localhost:8080/"
        },
        "id": "1nHzbKADFFXy",
        "outputId": "836c07a4-997a-4a64-a2e3-73fffc9d1693"
      },
      "source": [
        "class Node:\n",
        "  def __init__(self,data):\n",
        "    self.data=data\n",
        "    self.nextNode=None\n",
        "\n",
        "class LinkedList:\n",
        "  def __init__(self, head=None):\n",
        "    self.head=head\n",
        "  def ShowLinkedList(self):\n",
        "    if(self.head==None):\n",
        "      print(\"Linked List is Empty\")\n",
        "    else:\n",
        "      temp=self.head\n",
        "      while(temp):\n",
        "        print(temp.data)\n",
        "        temp=temp.nextNode\n",
        "\n",
        "first=Node(12)\n",
        "second = Node(2) \n",
        "third = Node(3)\n",
        "fourth = Node(8)\n",
        "\n",
        "first.nextNode=second\n",
        "second.nextNode=third\n",
        "third.nextNode=fourth\n",
        "obj=LinkedList()\n",
        "obj.head=first\n",
        "obj.ShowLinkedList()"
      ],
      "execution_count": 6,
      "outputs": [
        {
          "output_type": "stream",
          "text": [
            "12\n",
            "2\n",
            "3\n",
            "8\n"
          ],
          "name": "stdout"
        }
      ]
    }
  ]
}