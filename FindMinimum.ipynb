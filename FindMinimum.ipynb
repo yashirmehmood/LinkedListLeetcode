{
  "nbformat": 4,
  "nbformat_minor": 0,
  "metadata": {
    "colab": {
      "name": "FindMinimum.ipynb",
      "provenance": [],
      "collapsed_sections": [],
      "authorship_tag": "ABX9TyOJagChbYvHyiLYBlquiVdw",
      "include_colab_link": true
    },
    "kernelspec": {
      "name": "python3",
      "display_name": "Python 3"
    },
    "language_info": {
      "name": "python"
    }
  },
  "cells": [
    {
      "cell_type": "markdown",
      "metadata": {
        "id": "view-in-github",
        "colab_type": "text"
      },
      "source": [
        "<a href=\"https://colab.research.google.com/github/yashirmehmood/LinkedListLeetcode/blob/main/FindMinimum.ipynb\" target=\"_parent\"><img src=\"https://colab.research.google.com/assets/colab-badge.svg\" alt=\"Open In Colab\"/></a>"
      ]
    },
    {
      "cell_type": "code",
      "metadata": {
        "colab": {
          "base_uri": "https://localhost:8080/"
        },
        "id": "1nHzbKADFFXy",
        "outputId": "d60f0660-3ba6-4bd2-87f6-3b5998b7409d"
      },
      "source": [
        "def findMin(nums):\n",
        "  min_val=nums[0]\n",
        "  print(len(nums))\n",
        "  for i in range(1, len(nums)):\n",
        "    if nums[i] < min_val:\n",
        "      min_val = nums[i]\n",
        "      compnum=i\n",
        "      if(i+1>=(len(nums))):\n",
        "        compnum=0\n",
        "      else:\n",
        "        compnum=i+1\n",
        "      if nums[compnum]>min_val and nums[i-1]>min_val:\n",
        "        return min_val\n",
        "  return min_val\n",
        "ls=[2,3,4,5,6,7,8,9,10,11,12,13,14,15,1]\n",
        "mini=findMin(ls)\n",
        "print(mini)"
      ],
      "execution_count": 3,
      "outputs": [
        {
          "output_type": "stream",
          "text": [
            "15\n",
            "1\n"
          ],
          "name": "stdout"
        }
      ]
    }
  ]
}