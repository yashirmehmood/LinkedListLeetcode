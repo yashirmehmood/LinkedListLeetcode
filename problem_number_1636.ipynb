{
  "nbformat": 4,
  "nbformat_minor": 0,
  "metadata": {
    "colab": {
      "name": "problem number 1636.ipynb",
      "provenance": [],
      "collapsed_sections": [],
      "authorship_tag": "ABX9TyOEHhKU9oxz639DOHPuSHrW",
      "include_colab_link": true
    },
    "kernelspec": {
      "name": "python3",
      "display_name": "Python 3"
    },
    "language_info": {
      "name": "python"
    }
  },
  "cells": [
    {
      "cell_type": "markdown",
      "metadata": {
        "id": "view-in-github",
        "colab_type": "text"
      },
      "source": [
        "<a href=\"https://colab.research.google.com/github/yashirmehmood/LinkedListLeetcode/blob/main/problem_number_1636.ipynb\" target=\"_parent\"><img src=\"https://colab.research.google.com/assets/colab-badge.svg\" alt=\"Open In Colab\"/></a>"
      ]
    },
    {
      "cell_type": "code",
      "metadata": {
        "id": "1nHzbKADFFXy",
        "colab": {
          "base_uri": "https://localhost:8080/"
        },
        "outputId": "79a398ab-e14b-4e31-e490-bd3a09066412"
      },
      "source": [
        "#=========  problem number 1636 =============\n",
        "def SortArray(array_):\n",
        "  mydict={}\n",
        "  for ch in array_:\n",
        "    if ch not in mydict.keys():\n",
        "      mydict[ch]=1\n",
        "    else:\n",
        "      mydict[ch]=mydict[ch]+1\n",
        "  #print(mydict)\n",
        "  tup = sorted(mydict.items(), key=lambda item: item[1])\n",
        "  print(tup)\n",
        "  list_=[]\n",
        "  for i in range(len(tup)-1):\n",
        "    for j in range(i+1,len(tup)):\n",
        "      if tup[j][0] > tup[i][0] and tup[j][1]==tup[i][1]:\n",
        "        temp = tup[j]\n",
        "        tup[j]= tup[i]\n",
        "        tup[i]= temp\n",
        "  for k,v in tup:\n",
        "    list_ += v * [k]\n",
        "  return list_\n",
        "arr=[2,3,1,3,2]\n",
        "result=SortArray(arr)\n",
        "print(result)"
      ],
      "execution_count": 18,
      "outputs": [
        {
          "output_type": "stream",
          "text": [
            "[(1, 1), (2, 2), (3, 2)]\n",
            "[1, 3, 3, 2, 2]\n"
          ],
          "name": "stdout"
        }
      ]
    }
  ]
}