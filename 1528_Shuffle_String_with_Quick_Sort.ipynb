{
  "nbformat": 4,
  "nbformat_minor": 0,
  "metadata": {
    "colab": {
      "name": "1528. Shuffle String  with Quick Sort.ipynb",
      "provenance": [],
      "collapsed_sections": [],
      "authorship_tag": "ABX9TyNU2c4OQRFuqYZUFcxdAqNJ",
      "include_colab_link": true
    },
    "kernelspec": {
      "name": "python3",
      "display_name": "Python 3"
    },
    "language_info": {
      "name": "python"
    }
  },
  "cells": [
    {
      "cell_type": "markdown",
      "metadata": {
        "id": "view-in-github",
        "colab_type": "text"
      },
      "source": [
        "<a href=\"https://colab.research.google.com/github/yashirmehmood/LinkedListLeetcode/blob/main/1528_Shuffle_String_with_Quick_Sort.ipynb\" target=\"_parent\"><img src=\"https://colab.research.google.com/assets/colab-badge.svg\" alt=\"Open In Colab\"/></a>"
      ]
    },
    {
      "cell_type": "code",
      "metadata": {
        "id": "1nHzbKADFFXy",
        "colab": {
          "base_uri": "https://localhost:8080/"
        },
        "outputId": "fb09d365-dbb7-463f-ad8a-fa7a96f5125c"
      },
      "source": [
        "#=========    1528. Shuffle String  with Quick Sort   ================\n",
        "def QuickSort(A,CharArr,start,end):\n",
        "    if start<end:\n",
        "        PartitionIndex=Partition(A,CharArr,start,end)\n",
        "        QuickSort(A,CharArr,start,PartitionIndex-1)\n",
        "        QuickSort(A,CharArr,PartitionIndex+1,end)\n",
        "def Partition(A,CharArr,start,end):\n",
        "    PartitionIndex= start\n",
        "    pivot=A[end]\n",
        "    for i in range(start,end):\n",
        "        if A[i]<=pivot:\n",
        "          swap(A,i,PartitionIndex)\n",
        "          swap(CharArr,i,PartitionIndex)\n",
        "          PartitionIndex +=1\n",
        "    swap(A,PartitionIndex,end)\n",
        "    swap(CharArr,PartitionIndex,end)\n",
        "    return PartitionIndex\n",
        "def swap(nums,i,j):\n",
        "  temp=nums[i]\n",
        "  nums[i]=nums[j]\n",
        "  nums[j] = temp\n",
        "indices=[4,0,2,6,7,3,1,5]\n",
        "stringArr='aaiougrt'\n",
        "arr=list(stringArr)\n",
        "start=0\n",
        "end = len(indices)-1\n",
        "QuickSort(indices,arr,start,end)\n",
        "sortedCharList=''.join(arr)\n",
        "print(sortedCharList)\n",
        "print(indices)"
      ],
      "execution_count": 14,
      "outputs": [
        {
          "output_type": "stream",
          "text": [
            "arigatou\n",
            "[0, 1, 2, 3, 4, 5, 6, 7]\n"
          ],
          "name": "stdout"
        }
      ]
    }
  ]
}