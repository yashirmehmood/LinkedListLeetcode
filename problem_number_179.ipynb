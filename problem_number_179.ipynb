{
  "nbformat": 4,
  "nbformat_minor": 0,
  "metadata": {
    "colab": {
      "name": "problem number 179.ipynb",
      "provenance": [],
      "collapsed_sections": [],
      "authorship_tag": "ABX9TyNg2RNsOOyBmemUThEPnacg",
      "include_colab_link": true
    },
    "kernelspec": {
      "name": "python3",
      "display_name": "Python 3"
    },
    "language_info": {
      "name": "python"
    }
  },
  "cells": [
    {
      "cell_type": "markdown",
      "metadata": {
        "id": "view-in-github",
        "colab_type": "text"
      },
      "source": [
        "<a href=\"https://colab.research.google.com/github/yashirmehmood/LinkedListLeetcode/blob/main/problem_number_179.ipynb\" target=\"_parent\"><img src=\"https://colab.research.google.com/assets/colab-badge.svg\" alt=\"Open In Colab\"/></a>"
      ]
    },
    {
      "cell_type": "code",
      "metadata": {
        "id": "1nHzbKADFFXy",
        "colab": {
          "base_uri": "https://localhost:8080/"
        },
        "outputId": "ae420e03-c113-4fad-e5f4-9042b332740b"
      },
      "source": [
        "#=========  problem number 179 =============\n",
        "def largestNumber(array): \n",
        "  largestnumber =''\n",
        "  for i in range(len(array)-1):\n",
        "    for j in range(i+1, len(array)):\n",
        "      temp1 = str(array[i])+str(array[j])\n",
        "      temp2 = str(array[j])+str(array[i])\n",
        "      if int(temp2) > int(temp1):\n",
        "        array[i] , array[j] = array[j] , array[i]\n",
        "  for i in range(len(array)):\n",
        "    largestnumber += str(array[i])\n",
        "    result=int(largestnumber)\n",
        "  return str(result)\n",
        "ans=largestNumber([12,9,10])\n",
        "print(ans)"
      ],
      "execution_count": 17,
      "outputs": [
        {
          "output_type": "stream",
          "text": [
            "91210\n"
          ],
          "name": "stdout"
        }
      ]
    }
  ]
}