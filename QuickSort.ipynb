{
  "nbformat": 4,
  "nbformat_minor": 0,
  "metadata": {
    "colab": {
      "name": "QuickSort.ipynb",
      "provenance": [],
      "collapsed_sections": [],
      "authorship_tag": "ABX9TyOkkUVh2weP3p9nU+Fdfsll",
      "include_colab_link": true
    },
    "kernelspec": {
      "name": "python3",
      "display_name": "Python 3"
    },
    "language_info": {
      "name": "python"
    }
  },
  "cells": [
    {
      "cell_type": "markdown",
      "metadata": {
        "id": "view-in-github",
        "colab_type": "text"
      },
      "source": [
        "<a href=\"https://colab.research.google.com/github/yashirmehmood/LinkedListLeetcode/blob/main/QuickSort.ipynb\" target=\"_parent\"><img src=\"https://colab.research.google.com/assets/colab-badge.svg\" alt=\"Open In Colab\"/></a>"
      ]
    },
    {
      "cell_type": "code",
      "metadata": {
        "colab": {
          "base_uri": "https://localhost:8080/"
        },
        "id": "1nHzbKADFFXy",
        "outputId": "d813273e-855b-40ab-ccf8-a533d5aa0816"
      },
      "source": [
        "def QuickSort(A,start,end):\n",
        "    if start<end:\n",
        "        PIndex=Partition(A,start,end)\n",
        "        QuickSort(A,start,PIndex-1)\n",
        "        QuickSort(A,PIndex+1,end)\n",
        "def Partition(A,start,end):\n",
        "    PIndex= start\n",
        "    pivot=A[end]\n",
        "    for i in range(start,end):\n",
        "        if A[i]<=pivot:\n",
        "            A[i],A[PIndex]=A[PIndex],A[i]\n",
        "            PIndex +=1\n",
        "    A[PIndex],A[end]=A[end],A[PIndex]\n",
        "    return PIndex\n",
        "nums=[11,2,-15,4,1,5,-1,13,9,6,0,3,10,-5]\n",
        "start=0\n",
        "end = len(nums)-1\n",
        "QuickSort(nums,start,end)\n",
        "print(nums)"
      ],
      "execution_count": 1,
      "outputs": [
        {
          "output_type": "stream",
          "text": [
            "[-15, -5, -1, 0, 1, 2, 3, 4, 5, 6, 9, 10, 11, 13]\n"
          ],
          "name": "stdout"
        }
      ]
    }
  ]
}