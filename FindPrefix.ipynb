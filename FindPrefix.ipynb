{
  "nbformat": 4,
  "nbformat_minor": 0,
  "metadata": {
    "colab": {
      "name": "FindPrefix.ipynb",
      "provenance": [],
      "collapsed_sections": [],
      "authorship_tag": "ABX9TyO0GFML4JFXhyATNdcdb+xf",
      "include_colab_link": true
    },
    "kernelspec": {
      "name": "python3",
      "display_name": "Python 3"
    },
    "language_info": {
      "name": "python"
    }
  },
  "cells": [
    {
      "cell_type": "markdown",
      "metadata": {
        "id": "view-in-github",
        "colab_type": "text"
      },
      "source": [
        "<a href=\"https://colab.research.google.com/github/yashirmehmood/LinkedListLeetcode/blob/main/FindPrefix.ipynb\" target=\"_parent\"><img src=\"https://colab.research.google.com/assets/colab-badge.svg\" alt=\"Open In Colab\"/></a>"
      ]
    },
    {
      "cell_type": "code",
      "metadata": {
        "colab": {
          "base_uri": "https://localhost:8080/"
        },
        "id": "1nHzbKADFFXy",
        "outputId": "03108bee-661b-4c50-9107-0a9c312e339a"
      },
      "source": [
        "def findprefix(listStr):\n",
        "  # if list is empty\n",
        "  if not listStr:\n",
        "    return ''\n",
        "  # if list have only one element\n",
        "  if len(listStr)<2:\n",
        "    return listStr[0]\n",
        "  # check the smallest element in list\n",
        "  minelem=listStr[0]\n",
        "  \n",
        "  for i in range(len(listStr)):\n",
        "    if len(listStr[i]) < len(minelem) :\n",
        "      minelem = listStr[i]\n",
        "  # check if the smallest element is empty\n",
        "  if not minelem:\n",
        "    return ''\n",
        "  notfound=True\n",
        "  index=0\n",
        "  innerindex_=0\n",
        "  stri=''\n",
        "  while(notfound):\n",
        "    if index< len(listStr):\n",
        "      val=listStr[index]\n",
        "      if minelem[innerindex_] is not val[innerindex_]:\n",
        "        notfound=False\n",
        "        return stri\n",
        "      index+=1\n",
        "    else:\n",
        "      index=0\n",
        "      stri=stri+minelem[innerindex_]\n",
        "      if innerindex_ < (len(minelem)-1):\n",
        "        innerindex_+=1\n",
        "      else:\n",
        "        notfound=True\n",
        "        return stri\n",
        "arr=[\"flower\",\"flow\",\"flight\"]\n",
        "pref=findprefix(arr)\n",
        "print(pref)"
      ],
      "execution_count": 8,
      "outputs": [
        {
          "output_type": "stream",
          "text": [
            "fl\n"
          ],
          "name": "stdout"
        }
      ]
    }
  ]
}