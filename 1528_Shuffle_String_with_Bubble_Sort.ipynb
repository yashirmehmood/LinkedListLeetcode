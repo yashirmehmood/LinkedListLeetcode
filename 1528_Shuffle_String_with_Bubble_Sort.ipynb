{
  "nbformat": 4,
  "nbformat_minor": 0,
  "metadata": {
    "colab": {
      "name": "1528. Shuffle String  with Bubble Sort.ipynb",
      "provenance": [],
      "collapsed_sections": [],
      "authorship_tag": "ABX9TyPevjN+5HJDo73UAz4z4t/i",
      "include_colab_link": true
    },
    "kernelspec": {
      "name": "python3",
      "display_name": "Python 3"
    },
    "language_info": {
      "name": "python"
    }
  },
  "cells": [
    {
      "cell_type": "markdown",
      "metadata": {
        "id": "view-in-github",
        "colab_type": "text"
      },
      "source": [
        "<a href=\"https://colab.research.google.com/github/yashirmehmood/LinkedListLeetcode/blob/main/1528_Shuffle_String_with_Bubble_Sort.ipynb\" target=\"_parent\"><img src=\"https://colab.research.google.com/assets/colab-badge.svg\" alt=\"Open In Colab\"/></a>"
      ]
    },
    {
      "cell_type": "code",
      "metadata": {
        "id": "1nHzbKADFFXy",
        "colab": {
          "base_uri": "https://localhost:8080/"
        },
        "outputId": "77762618-8006-4010-d754-322a3b8b5c46"
      },
      "source": [
        "def bubble_sort(nums,CharArr):\n",
        "  for i in range(len(nums)-1):\n",
        "    sorted =True\n",
        "    for j in range(len(nums)-1 -i):\n",
        "      if nums[j] > nums[j + 1]:\n",
        "        sorted = False\n",
        "        nums[j], nums[j + 1] = nums[j + 1], nums[j]\n",
        "        CharArr[j],CharArr[j+1]=CharArr[j+1],CharArr[j]\n",
        "    if  sorted == True :\n",
        "      break\n",
        "  return (nums)\n",
        "\n",
        "indices = [4,0,2,6,7,3,1,5]\n",
        "CharStr= \"aaiougrt\"\n",
        "arr=list(CharStr)\n",
        "bubble_sort(indices,arr)\n",
        "sortedCharList=''.join(arr)\n",
        "print(indices)\n",
        "print(sortedCharList)"
      ],
      "execution_count": 16,
      "outputs": [
        {
          "output_type": "stream",
          "text": [
            "[0, 1, 2, 3, 4, 5, 6, 7]\n",
            "arigatou\n"
          ],
          "name": "stdout"
        }
      ]
    }
  ]
}