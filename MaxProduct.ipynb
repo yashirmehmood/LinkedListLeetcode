{
  "nbformat": 4,
  "nbformat_minor": 0,
  "metadata": {
    "colab": {
      "name": "MaxProduct.ipynb",
      "provenance": [],
      "collapsed_sections": [],
      "authorship_tag": "ABX9TyOD22rciEIgcdzpaY5KNRPL",
      "include_colab_link": true
    },
    "kernelspec": {
      "name": "python3",
      "display_name": "Python 3"
    },
    "language_info": {
      "name": "python"
    }
  },
  "cells": [
    {
      "cell_type": "markdown",
      "metadata": {
        "id": "view-in-github",
        "colab_type": "text"
      },
      "source": [
        "<a href=\"https://colab.research.google.com/github/yashirmehmood/LinkedListLeetcode/blob/main/MaxProduct.ipynb\" target=\"_parent\"><img src=\"https://colab.research.google.com/assets/colab-badge.svg\" alt=\"Open In Colab\"/></a>"
      ]
    },
    {
      "cell_type": "code",
      "metadata": {
        "colab": {
          "base_uri": "https://localhost:8080/"
        },
        "id": "1nHzbKADFFXy",
        "outputId": "63b053b3-e987-4686-a431-9a9d07a72087"
      },
      "source": [
        "def maxProduct(myList):\n",
        "  maximum=0\n",
        "  scndmax=0\n",
        "  if myList[0]>myList[1]:\n",
        "    maximum=myList[0]\n",
        "    scndmax=myList[1]\n",
        "  else:\n",
        "    maximum=myList[1]\n",
        "    scndmax=myList[0]\n",
        "  for i in range(2,len(myList)):\n",
        "    if myList[i]>=maximum:\n",
        "      scndmax=maximum\n",
        "      maximum=myList[i]\n",
        "    elif myList[i]<maximum and myList[i]>scndmax:\n",
        "      scndmax=myList[i]\n",
        "  firstnum=maximum-1\n",
        "  secndnum=scndmax-1\n",
        "  return (firstnum*secndnum)\n",
        "arr=[1,5,4,5]\n",
        "ans=maxProduct(arr)\n",
        "print(ans)"
      ],
      "execution_count": 5,
      "outputs": [
        {
          "output_type": "stream",
          "text": [
            "16\n"
          ],
          "name": "stdout"
        }
      ]
    }
  ]
}