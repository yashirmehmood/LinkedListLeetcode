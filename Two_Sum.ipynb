{
  "nbformat": 4,
  "nbformat_minor": 0,
  "metadata": {
    "colab": {
      "name": "Two Sum.ipynb",
      "provenance": [],
      "collapsed_sections": [],
      "authorship_tag": "ABX9TyPcsgpSMc9z6i7pZbtqW+CX",
      "include_colab_link": true
    },
    "kernelspec": {
      "name": "python3",
      "display_name": "Python 3"
    },
    "language_info": {
      "name": "python"
    }
  },
  "cells": [
    {
      "cell_type": "markdown",
      "metadata": {
        "id": "view-in-github",
        "colab_type": "text"
      },
      "source": [
        "<a href=\"https://colab.research.google.com/github/yashirmehmood/LinkedListLeetcode/blob/main/Two_Sum.ipynb\" target=\"_parent\"><img src=\"https://colab.research.google.com/assets/colab-badge.svg\" alt=\"Open In Colab\"/></a>"
      ]
    },
    {
      "cell_type": "code",
      "metadata": {
        "colab": {
          "base_uri": "https://localhost:8080/"
        },
        "id": "1nHzbKADFFXy",
        "outputId": "eb9bbc5f-3e7e-4211-f24f-b480876f5d63"
      },
      "source": [
        "# two sum problem\n",
        "def findTwoSum(array_,target_):\n",
        "  dist={}\n",
        "  for index,value in enumerate(array_,0):\n",
        "    val=target_-value\n",
        "    if val in dist:\n",
        "      return index,dist[val]\n",
        "    else:\n",
        "      dist[value]=index # 12->0, 6->1,9->3,8->4\n",
        "arr=[12,6,9,8,14,20]\n",
        "target=22\n",
        "i,j=findTwoSum(arr,target)\n",
        "print('FirstIndex=',i,' SecondIndex=',j)"
      ],
      "execution_count": 11,
      "outputs": [
        {
          "output_type": "stream",
          "text": [
            "FirstIndex= 4  SecondIndex= 3\n"
          ],
          "name": "stdout"
        }
      ]
    }
  ]
}