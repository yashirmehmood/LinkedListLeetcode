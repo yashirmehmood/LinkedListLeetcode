{
  "nbformat": 4,
  "nbformat_minor": 0,
  "metadata": {
    "colab": {
      "name": "BinarySearch.ipynb",
      "provenance": [],
      "collapsed_sections": [],
      "authorship_tag": "ABX9TyOz5DJyDH705LLP/J/0e42i",
      "include_colab_link": true
    },
    "kernelspec": {
      "name": "python3",
      "display_name": "Python 3"
    },
    "language_info": {
      "name": "python"
    }
  },
  "cells": [
    {
      "cell_type": "markdown",
      "metadata": {
        "id": "view-in-github",
        "colab_type": "text"
      },
      "source": [
        "<a href=\"https://colab.research.google.com/github/yashirmehmood/LinkedListLeetcode/blob/main/BinarySearch.ipynb\" target=\"_parent\"><img src=\"https://colab.research.google.com/assets/colab-badge.svg\" alt=\"Open In Colab\"/></a>"
      ]
    },
    {
      "cell_type": "code",
      "metadata": {
        "colab": {
          "base_uri": "https://localhost:8080/"
        },
        "id": "1nHzbKADFFXy",
        "outputId": "b8af7034-0945-4557-d9b3-39ac941fd43c"
      },
      "source": [
        "# ======= Binary search =========\n",
        "def binary(arr,target):\n",
        "  left=0\n",
        "  right=len(arr)-1\n",
        "\n",
        "  while left<=right:\n",
        "    mid=(right+left)//2\n",
        "    print(arr[mid])\n",
        "    print(mid)\n",
        "    if arr[mid]==target:\n",
        "      return True\n",
        "    elif arr[mid]>target:\n",
        "      right=mid-1\n",
        "    else:\n",
        "      left=mid+1\n",
        "  return False\n",
        "arr=[2,4,6,8,12,15,20,23,29,31,32,42,44]\n",
        "found=binary(arr,32)\n",
        "if found:\n",
        "  print('Your value has found')\n",
        "else:\n",
        "  print('Your value didnt found')"
      ],
      "execution_count": 10,
      "outputs": [
        {
          "output_type": "stream",
          "text": [
            "20\n",
            "6\n",
            "31\n",
            "9\n",
            "42\n",
            "11\n",
            "32\n",
            "10\n",
            "Your value has found\n"
          ],
          "name": "stdout"
        }
      ]
    }
  ]
}