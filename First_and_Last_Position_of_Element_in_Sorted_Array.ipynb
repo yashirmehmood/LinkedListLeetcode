{
  "nbformat": 4,
  "nbformat_minor": 0,
  "metadata": {
    "colab": {
      "name": "First and Last Position of Element in Sorted Array.ipynb",
      "provenance": [],
      "collapsed_sections": [],
      "authorship_tag": "ABX9TyOpJI3I9GnVZr8g3Z3r6dU5",
      "include_colab_link": true
    },
    "kernelspec": {
      "name": "python3",
      "display_name": "Python 3"
    },
    "language_info": {
      "name": "python"
    }
  },
  "cells": [
    {
      "cell_type": "markdown",
      "metadata": {
        "id": "view-in-github",
        "colab_type": "text"
      },
      "source": [
        "<a href=\"https://colab.research.google.com/github/yashirmehmood/LinkedListLeetcode/blob/main/First_and_Last_Position_of_Element_in_Sorted_Array.ipynb\" target=\"_parent\"><img src=\"https://colab.research.google.com/assets/colab-badge.svg\" alt=\"Open In Colab\"/></a>"
      ]
    },
    {
      "cell_type": "code",
      "metadata": {
        "id": "1nHzbKADFFXy"
      },
      "source": [
        "#====================== Find First and Last Position of Element in Sorted Array ===================\n",
        "def myfunc(arr,target):\n",
        "  left=0\n",
        "  right=len(arr)-1\n",
        "  leftmost=-1\n",
        "  rightmost=-1\n",
        "  Rightfound=False\n",
        "  Leftfound=False\n",
        "  while left<=right:\n",
        "    mid=(left+right)//2\n",
        "    if arr[mid]==target:\n",
        "      if arr[mid-1] is not target:\n",
        "        leftmost=mid\n",
        "        Leftfound=True\n",
        "      if arr[mid+1] is not target:\n",
        "        rightmost=mid\n",
        "        Rightfound=True\n",
        "      if Leftfound and Rightfound:\n",
        "        return [leftmost,rightmost]\n",
        "  return [-1,-1]\n",
        "nums = [5,7,7,7,8,10]\n",
        "target=7\n",
        "tople=myfunc(nums,target)\n",
        "print(tople)"
      ],
      "execution_count": null,
      "outputs": []
    }
  ]
}