{
  "nbformat": 4,
  "nbformat_minor": 0,
  "metadata": {
    "colab": {
      "name": "1528. Shuffle String  with Merge Sort.ipynb",
      "provenance": [],
      "collapsed_sections": [],
      "authorship_tag": "ABX9TyOw/pofDNoRvkxyUsqh7xks",
      "include_colab_link": true
    },
    "kernelspec": {
      "name": "python3",
      "display_name": "Python 3"
    },
    "language_info": {
      "name": "python"
    }
  },
  "cells": [
    {
      "cell_type": "markdown",
      "metadata": {
        "id": "view-in-github",
        "colab_type": "text"
      },
      "source": [
        "<a href=\"https://colab.research.google.com/github/yashirmehmood/LinkedListLeetcode/blob/main/1528_Shuffle_String_with_Merge_Sort.ipynb\" target=\"_parent\"><img src=\"https://colab.research.google.com/assets/colab-badge.svg\" alt=\"Open In Colab\"/></a>"
      ]
    },
    {
      "cell_type": "code",
      "metadata": {
        "id": "1nHzbKADFFXy",
        "colab": {
          "base_uri": "https://localhost:8080/"
        },
        "outputId": "eb0cb40a-eb07-4941-b864-ecded6d955f8"
      },
      "source": [
        "#==========   1528. Shuffle String  with Merge Sort   ===========\n",
        "\n",
        "def mergeSort(myList,CharStr):\n",
        "  if len(myList) == 1:\n",
        "    return\n",
        "  mid = len(myList) // 2\n",
        "  left = myList[:mid]\n",
        "  right = myList[mid:]\n",
        "  leftStr = CharStr[:mid]\n",
        "  rightStr = CharStr[mid:]\n",
        "  mergeSort(left,leftStr)\n",
        "  mergeSort(right,rightStr)\n",
        "  i = 0\n",
        "  j = 0\n",
        "  k = 0\n",
        "  while i < len(left) and j < len(right):\n",
        "    if left[i] < right[j]:\n",
        "      myList[k] = left[i]\n",
        "      CharStr[k]=leftStr[i]\n",
        "      i += 1\n",
        "    else:\n",
        "      myList[k] = right[j]\n",
        "      CharStr[k]=rightStr[j]\n",
        "      j += 1\n",
        "    k += 1\n",
        "  while i < len(left):\n",
        "    myList[k] = left[i]\n",
        "    CharStr[k]=leftStr[i]\n",
        "    i += 1\n",
        "    k += 1\n",
        "  while j < len(right):\n",
        "    myList[k]=right[j]\n",
        "    CharStr[k]=rightStr[j]\n",
        "    j += 1\n",
        "    k += 1\n",
        "indices = [4,0,2,6,7,3,1,5]\n",
        "CharStr= \"aaiougrt\"\n",
        "arr=list(CharStr)\n",
        "mergeSort(indices,arr)\n",
        "print(indices)\n",
        "sortedCharList=''.join(arr)\n",
        "print(sortedCharList)"
      ],
      "execution_count": 15,
      "outputs": [
        {
          "output_type": "stream",
          "text": [
            "[0, 1, 2, 3, 4, 5, 6, 7]\n",
            "arigatou\n"
          ],
          "name": "stdout"
        }
      ]
    }
  ]
}